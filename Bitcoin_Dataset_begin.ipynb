{
 "cells": [
  {
   "cell_type": "markdown",
   "id": "2faaca2f",
   "metadata": {},
   "source": [
    "# Bitcoin History Data"
   ]
  },
  {
   "cell_type": "markdown",
   "id": "6e6e097d",
   "metadata": {},
   "source": [
    "import Libary\n",
    "Read csv\n",
    "Take a first look"
   ]
  },
  {
   "cell_type": "code",
   "execution_count": 1,
   "id": "502853a5",
   "metadata": {},
   "outputs": [],
   "source": [
    "import numpy as np\n",
    "import pandas as pd\n",
    "import matplotlib.pyplot as plt"
   ]
  },
  {
   "cell_type": "code",
   "execution_count": 2,
   "id": "2baa350b",
   "metadata": {
    "scrolled": true
   },
   "outputs": [],
   "source": [
    "df = pd.read_csv(\"Bitcoin_dataset_updated.csv\")"
   ]
  },
  {
   "cell_type": "code",
   "execution_count": 7,
   "id": "48cfaad0",
   "metadata": {},
   "outputs": [
    {
     "data": {
      "text/html": [
       "<div>\n",
       "<style scoped>\n",
       "    .dataframe tbody tr th:only-of-type {\n",
       "        vertical-align: middle;\n",
       "    }\n",
       "\n",
       "    .dataframe tbody tr th {\n",
       "        vertical-align: top;\n",
       "    }\n",
       "\n",
       "    .dataframe thead th {\n",
       "        text-align: right;\n",
       "    }\n",
       "</style>\n",
       "<table border=\"1\" class=\"dataframe\">\n",
       "  <thead>\n",
       "    <tr style=\"text-align: right;\">\n",
       "      <th></th>\n",
       "      <th>Date</th>\n",
       "      <th>BTC price [USD]</th>\n",
       "      <th>n-transactions</th>\n",
       "      <th>fee [USD]</th>\n",
       "      <th>btc search trends</th>\n",
       "      <th>Gold price[USD]</th>\n",
       "      <th>SP500 close index</th>\n",
       "      <th>Oil WTI price[USD]</th>\n",
       "      <th>M2(Not seasonally adjusted)[1e+09 USD]</th>\n",
       "    </tr>\n",
       "  </thead>\n",
       "  <tbody>\n",
       "    <tr>\n",
       "      <th>0</th>\n",
       "      <td>2014-01-02</td>\n",
       "      <td>749.27</td>\n",
       "      <td>54770.0</td>\n",
       "      <td>0.18</td>\n",
       "      <td>8</td>\n",
       "      <td>1225.0</td>\n",
       "      <td>1831.98</td>\n",
       "      <td>95.14</td>\n",
       "      <td>11089.3</td>\n",
       "    </tr>\n",
       "    <tr>\n",
       "      <th>1</th>\n",
       "      <td>2014-01-03</td>\n",
       "      <td>781.23</td>\n",
       "      <td>60980.0</td>\n",
       "      <td>NaN</td>\n",
       "      <td>8</td>\n",
       "      <td>1238.4</td>\n",
       "      <td>1831.37</td>\n",
       "      <td>93.66</td>\n",
       "      <td>11089.3</td>\n",
       "    </tr>\n",
       "    <tr>\n",
       "      <th>2</th>\n",
       "      <td>2014-01-04</td>\n",
       "      <td>807.39</td>\n",
       "      <td>52052.0</td>\n",
       "      <td>NaN</td>\n",
       "      <td>8</td>\n",
       "      <td>NaN</td>\n",
       "      <td>NaN</td>\n",
       "      <td>NaN</td>\n",
       "      <td>11089.3</td>\n",
       "    </tr>\n",
       "    <tr>\n",
       "      <th>3</th>\n",
       "      <td>2014-01-05</td>\n",
       "      <td>828.74</td>\n",
       "      <td>58662.0</td>\n",
       "      <td>0.38</td>\n",
       "      <td>8</td>\n",
       "      <td>NaN</td>\n",
       "      <td>NaN</td>\n",
       "      <td>NaN</td>\n",
       "      <td>11089.3</td>\n",
       "    </tr>\n",
       "    <tr>\n",
       "      <th>4</th>\n",
       "      <td>2014-01-06</td>\n",
       "      <td>904.98</td>\n",
       "      <td>67358.0</td>\n",
       "      <td>NaN</td>\n",
       "      <td>8</td>\n",
       "      <td>1237.8</td>\n",
       "      <td>1826.77</td>\n",
       "      <td>93.12</td>\n",
       "      <td>11089.3</td>\n",
       "    </tr>\n",
       "  </tbody>\n",
       "</table>\n",
       "</div>"
      ],
      "text/plain": [
       "         Date  BTC price [USD]  n-transactions  fee [USD]  btc search trends  \\\n",
       "0  2014-01-02           749.27         54770.0       0.18                  8   \n",
       "1  2014-01-03           781.23         60980.0        NaN                  8   \n",
       "2  2014-01-04           807.39         52052.0        NaN                  8   \n",
       "3  2014-01-05           828.74         58662.0       0.38                  8   \n",
       "4  2014-01-06           904.98         67358.0        NaN                  8   \n",
       "\n",
       "   Gold price[USD]  SP500 close index  Oil WTI price[USD]  \\\n",
       "0           1225.0            1831.98               95.14   \n",
       "1           1238.4            1831.37               93.66   \n",
       "2              NaN                NaN                 NaN   \n",
       "3              NaN                NaN                 NaN   \n",
       "4           1237.8            1826.77               93.12   \n",
       "\n",
       "   M2(Not seasonally adjusted)[1e+09 USD]  \n",
       "0                                 11089.3  \n",
       "1                                 11089.3  \n",
       "2                                 11089.3  \n",
       "3                                 11089.3  \n",
       "4                                 11089.3  "
      ]
     },
     "execution_count": 7,
     "metadata": {},
     "output_type": "execute_result"
    }
   ],
   "source": [
    "df.head()"
   ]
  },
  {
   "cell_type": "markdown",
   "id": "f9f6b18b",
   "metadata": {},
   "source": [
    "## Plots"
   ]
  },
  {
   "cell_type": "markdown",
   "id": "9f0c4205",
   "metadata": {},
   "source": [
    "Make some plots with the data for a further look"
   ]
  },
  {
   "cell_type": "code",
   "execution_count": 4,
   "id": "e73b2b55",
   "metadata": {},
   "outputs": [],
   "source": [
    "date = df[\"Date\"]\n",
    "bitPrice = df[\"BTC price [USD]\"]\n",
    "goldPrice = df[\"Gold price[USD]\"]\n",
    "oilPrice = df[\"Oil WTI price[USD]\"]\n",
    "sp500 = df[\"SP500 close index\"]\n",
    "transac = df[\"n-transactions\"]"
   ]
  },
  {
   "cell_type": "code",
   "execution_count": 5,
   "id": "21fe0eec",
   "metadata": {},
   "outputs": [
    {
     "data": {
      "image/png": "[encoded data removed]",
      "text/plain": [
       "<Figure size 432x288 with 1 Axes>"
      ]
     },
     "metadata": {
      "needs_background": "light"
     },
     "output_type": "display_data"
    }
   ],
   "source": [
    "plt.plot(date, bitPrice)\n",
    "plt.plot(date, goldPrice)\n",
    "# plt.plot(date, oilPrice)\n",
    "# plt.plot(date, sp500)\n",
    "\n",
    "plt.show()"
   ]
  },
  {
   "cell_type": "code",
   "execution_count": 22,
   "id": "7b0a4119",
   "metadata": {
    "collapsed": true
   },
   "outputs": [
    {
     "name": "stdout",
     "output_type": "stream",
     "text": [
      "            Date  BTC price [USD]  n-transactions  fee [USD]  \\\n",
      "0     2014-01-02           749.27         54770.0       0.18   \n",
      "1     2014-01-03           781.23         60980.0        NaN   \n",
      "2     2014-01-04           807.39         52052.0        NaN   \n",
      "3     2014-01-05           828.74         58662.0       0.38   \n",
      "4     2014-01-06           904.98         67358.0        NaN   \n",
      "...          ...              ...             ...        ...   \n",
      "2305  2020-04-25          7507.08        280805.0       0.75   \n",
      "2306  2020-04-26          7549.52        252833.0       0.62   \n",
      "2307  2020-04-27          7699.27        311217.0       0.69   \n",
      "2308  2020-04-28          7790.66        323475.0       0.66   \n",
      "2309  2020-04-29          7765.33        331401.0       1.30   \n",
      "\n",
      "      btc search trends  Gold price[USD]  SP500 close index  \\\n",
      "0                     8           1225.0            1831.98   \n",
      "1                     8           1238.4            1831.37   \n",
      "2                     8              NaN                NaN   \n",
      "3                     8              NaN                NaN   \n",
      "4                     8           1237.8            1826.77   \n",
      "...                 ...              ...                ...   \n",
      "2305                 16              NaN                NaN   \n",
      "2306                 16              NaN                NaN   \n",
      "2307                 16           1723.8            2878.48   \n",
      "2308                 16           1722.2            2863.39   \n",
      "2309                 16           1713.4            2939.51   \n",
      "\n",
      "      Oil WTI price[USD]  M2(Not seasonally adjusted)[1e+09 USD]  \n",
      "0                  95.14                                 11089.3  \n",
      "1                  93.66                                 11089.3  \n",
      "2                    NaN                                 11089.3  \n",
      "3                    NaN                                 11089.3  \n",
      "4                  93.12                                 11089.3  \n",
      "...                  ...                                     ...  \n",
      "2305                 NaN                                 17269.8  \n",
      "2306                 NaN                                 17269.8  \n",
      "2307               12.17                                 17269.8  \n",
      "2308               12.40                                 17269.8  \n",
      "2309               15.04                                 17269.8  \n",
      "\n",
      "[2310 rows x 9 columns]\n"
     ]
    }
   ],
   "source": [
    "print(df)"
   ]
  },
  {
   "cell_type": "code",
   "execution_count": 30,
   "id": "6469f4a0",
   "metadata": {},
   "outputs": [
    {
     "data": {
      "image/png": "[encoded data removed]",
      "text/plain": [
       "<Figure size 432x288 with 1 Axes>"
      ]
     },
     "metadata": {
      "needs_background": "light"
     },
     "output_type": "display_data"
    }
   ],
   "source": [
    "plt.plot(date, transac)\n",
    "plt.show()"
   ]
  },
  {
   "cell_type": "markdown",
   "id": "a628faf0",
   "metadata": {},
   "source": [
    "assume that the data at 2017 may be interesting for us. So we filter them and make plots again\n",
    "Save the data at begin of 2017 to end in variable for some easy code lines"
   ]
  },
  {
   "cell_type": "code",
   "execution_count": 62,
   "id": "34bce651",
   "metadata": {},
   "outputs": [
    {
     "data": {
      "text/plain": [
       "Date                                      datetime64[ns]\n",
       "BTC price [USD]                                  float64\n",
       "n-transactions                                   float64\n",
       "fee [USD]                                        float64\n",
       "btc search trends                                  int64\n",
       "Gold price[USD]                                  float64\n",
       "SP500 close index                                float64\n",
       "Oil WTI price[USD]                               float64\n",
       "M2(Not seasonally adjusted)[1e+09 USD]           float64\n",
       "dtype: object"
      ]
     },
     "execution_count": 62,
     "metadata": {},
     "output_type": "execute_result"
    }
   ],
   "source": [
    "df.head()\n",
    "df.dtypes"
   ]
  },
  {
   "cell_type": "code",
   "execution_count": 9,
   "id": "a7493b77",
   "metadata": {},
   "outputs": [],
   "source": [
    "df[\"Date\"] = pd.to_datetime(df[\"Date\"])\n",
    "dataAt2017 = df[\"Date\"].dt.year >= 2017\n",
    "\n",
    "dateAt2017 = df.loc[dataAt2017, \"Date\"]\n",
    "bitPriceAt17 = df.loc[dataAt2017, \"BTC price [USD]\"]\n",
    "goldPriceAt17 = df.loc[dataAt2017, \"Gold price[USD]\"]\n",
    "oilPriceAt17 = df.loc[dataAt2017, \"Oil WTI price[USD]\"]\n",
    "sp500PriceAt17 = df.loc[dataAt2017, \"SP500 close index\"]"
   ]
  },
  {
   "cell_type": "code",
   "execution_count": 18,
   "id": "3f2bd0a1",
   "metadata": {},
   "outputs": [
    {
     "data": {
      "image/png": "[encoded data removed]",
      "text/plain": [
       "<Figure size 432x288 with 1 Axes>"
      ]
     },
     "metadata": {
      "needs_background": "light"
     },
     "output_type": "display_data"
    }
   ],
   "source": [
    "plt.plot(dateAt2017, goldPriceAt17)\n",
    "# plt.plot(dateAt2017, bitPriceAt17)\n",
    "# plt.plot(dateAt2017, oilPriceAt17)\n",
    "# plt.plot(dateAt2017, sp500PriceAt17)\n",
    "plt.show()"
   ]
  },
  {
   "cell_type": "code",
   "execution_count": 18,
   "id": "1ad0843b",
   "metadata": {},
   "outputs": [
    {
     "data": {
      "image/png": "[encoded data removed]",
      "text/plain": [
       "<Figure size 1440x576 with 1 Axes>"
      ]
     },
     "metadata": {
      "needs_background": "light"
     },
     "output_type": "display_data"
    }
   ],
   "source": [
    "plt.figure(figsize=(20, 8))\n",
    "plt.plot(dateAt2017, bitPriceAt17)\n",
    "\n",
    "plt.show()"
   ]
  },
  {
   "cell_type": "code",
   "execution_count": 17,
   "id": "0d8de8be",
   "metadata": {},
   "outputs": [
    {
     "data": {
      "image/png": "[encoded data removed]",
      "text/plain": [
       "<Figure size 1440x576 with 1 Axes>"
      ]
     },
     "metadata": {
      "needs_background": "light"
     },
     "output_type": "display_data"
    }
   ],
   "source": [
    "plt.figure(figsize=(20, 8))\n",
    "plt.plot(date, sp500)\n",
    "plt.show()"
   ]
  },
  {
   "cell_type": "code",
   "execution_count": 15,
   "id": "ad815e3d",
   "metadata": {},
   "outputs": [
    {
     "data": {
      "text/html": [
       "<div>\n",
       "<style scoped>\n",
       "    .dataframe tbody tr th:only-of-type {\n",
       "        vertical-align: middle;\n",
       "    }\n",
       "\n",
       "    .dataframe tbody tr th {\n",
       "        vertical-align: top;\n",
       "    }\n",
       "\n",
       "    .dataframe thead th {\n",
       "        text-align: right;\n",
       "    }\n",
       "</style>\n",
       "<table border=\"1\" class=\"dataframe\">\n",
       "  <thead>\n",
       "    <tr style=\"text-align: right;\">\n",
       "      <th></th>\n",
       "      <th>Date</th>\n",
       "      <th>BTC price [USD]</th>\n",
       "      <th>n-transactions</th>\n",
       "      <th>fee [USD]</th>\n",
       "      <th>btc search trends</th>\n",
       "      <th>Gold price[USD]</th>\n",
       "      <th>SP500 close index</th>\n",
       "      <th>Oil WTI price[USD]</th>\n",
       "      <th>M2(Not seasonally adjusted)[1e+09 USD]</th>\n",
       "      <th>DateYear</th>\n",
       "    </tr>\n",
       "  </thead>\n",
       "  <tbody>\n",
       "    <tr>\n",
       "      <th>0</th>\n",
       "      <td>2014-01-02</td>\n",
       "      <td>749.27</td>\n",
       "      <td>54770.0</td>\n",
       "      <td>0.18</td>\n",
       "      <td>8</td>\n",
       "      <td>1225.0</td>\n",
       "      <td>1831.98</td>\n",
       "      <td>95.14</td>\n",
       "      <td>11089.3</td>\n",
       "      <td>2014</td>\n",
       "    </tr>\n",
       "    <tr>\n",
       "      <th>1</th>\n",
       "      <td>2014-01-03</td>\n",
       "      <td>781.23</td>\n",
       "      <td>60980.0</td>\n",
       "      <td>NaN</td>\n",
       "      <td>8</td>\n",
       "      <td>1238.4</td>\n",
       "      <td>1831.37</td>\n",
       "      <td>93.66</td>\n",
       "      <td>11089.3</td>\n",
       "      <td>2014</td>\n",
       "    </tr>\n",
       "    <tr>\n",
       "      <th>2</th>\n",
       "      <td>2014-01-04</td>\n",
       "      <td>807.39</td>\n",
       "      <td>52052.0</td>\n",
       "      <td>NaN</td>\n",
       "      <td>8</td>\n",
       "      <td>NaN</td>\n",
       "      <td>NaN</td>\n",
       "      <td>NaN</td>\n",
       "      <td>11089.3</td>\n",
       "      <td>2014</td>\n",
       "    </tr>\n",
       "    <tr>\n",
       "      <th>3</th>\n",
       "      <td>2014-01-05</td>\n",
       "      <td>828.74</td>\n",
       "      <td>58662.0</td>\n",
       "      <td>0.38</td>\n",
       "      <td>8</td>\n",
       "      <td>NaN</td>\n",
       "      <td>NaN</td>\n",
       "      <td>NaN</td>\n",
       "      <td>11089.3</td>\n",
       "      <td>2014</td>\n",
       "    </tr>\n",
       "    <tr>\n",
       "      <th>4</th>\n",
       "      <td>2014-01-06</td>\n",
       "      <td>904.98</td>\n",
       "      <td>67358.0</td>\n",
       "      <td>NaN</td>\n",
       "      <td>8</td>\n",
       "      <td>1237.8</td>\n",
       "      <td>1826.77</td>\n",
       "      <td>93.12</td>\n",
       "      <td>11089.3</td>\n",
       "      <td>2014</td>\n",
       "    </tr>\n",
       "  </tbody>\n",
       "</table>\n",
       "</div>"
      ],
      "text/plain": [
       "        Date  BTC price [USD]  n-transactions  fee [USD]  btc search trends  \\\n",
       "0 2014-01-02           749.27         54770.0       0.18                  8   \n",
       "1 2014-01-03           781.23         60980.0        NaN                  8   \n",
       "2 2014-01-04           807.39         52052.0        NaN                  8   \n",
       "3 2014-01-05           828.74         58662.0       0.38                  8   \n",
       "4 2014-01-06           904.98         67358.0        NaN                  8   \n",
       "\n",
       "   Gold price[USD]  SP500 close index  Oil WTI price[USD]  \\\n",
       "0           1225.0            1831.98               95.14   \n",
       "1           1238.4            1831.37               93.66   \n",
       "2              NaN                NaN                 NaN   \n",
       "3              NaN                NaN                 NaN   \n",
       "4           1237.8            1826.77               93.12   \n",
       "\n",
       "   M2(Not seasonally adjusted)[1e+09 USD]  DateYear  \n",
       "0                                 11089.3      2014  \n",
       "1                                 11089.3      2014  \n",
       "2                                 11089.3      2014  \n",
       "3                                 11089.3      2014  \n",
       "4                                 11089.3      2014  "
      ]
     },
     "execution_count": 15,
     "metadata": {},
     "output_type": "execute_result"
    }
   ],
   "source": [
    "df.head()"
   ]
  },
  {
   "cell_type": "markdown",
   "id": "4e7c69b8",
   "metadata": {},
   "source": [
    "## Aggregat Functions and try to look at the data by year"
   ]
  },
  {
   "cell_type": "code",
   "execution_count": 41,
   "id": "4f2acd43",
   "metadata": {
    "scrolled": true
   },
   "outputs": [
    {
     "name": "stdout",
     "output_type": "stream",
     "text": [
      "          maxPrice  minPrice    meanPrice\n",
      "DateYear                                 \n",
      "2014        915.69    311.00   525.864698\n",
      "2015        463.98    172.00   272.048384\n",
      "2016        975.89    363.75   565.231721\n",
      "2017      19279.90    780.92  3936.087534\n",
      "2018      17155.95   3231.91  7567.843562\n",
      "2019      12932.55   3394.76  7363.272384\n",
      "2020      10368.53   4830.21  7988.175083\n"
     ]
    }
   ],
   "source": [
    "df[\"Date\"] = pd.to_datetime(df[\"Date\"])\n",
    "df[\"DateYear\"] = df[\"Date\"].dt.year\n",
    "\n",
    "btcAgg = df.groupby(by=[\"DateYear\"]).agg(\n",
    "    maxPrice=(\"BTC price [USD]\", np.max),\n",
    "    minPrice=(\"BTC price [USD]\", np.min),\n",
    "    meanPrice=(\"BTC price [USD]\", np.mean)\n",
    ")\n",
    "print(btcAgg)"
   ]
  },
  {
   "cell_type": "code",
   "execution_count": 43,
   "id": "9273d9bf",
   "metadata": {
    "collapsed": true
   },
   "outputs": [
    {
     "data": {
      "text/html": [
       "<div>\n",
       "<style scoped>\n",
       "    .dataframe tbody tr th:only-of-type {\n",
       "        vertical-align: middle;\n",
       "    }\n",
       "\n",
       "    .dataframe tbody tr th {\n",
       "        vertical-align: top;\n",
       "    }\n",
       "\n",
       "    .dataframe thead th {\n",
       "        text-align: right;\n",
       "    }\n",
       "</style>\n",
       "<table border=\"1\" class=\"dataframe\">\n",
       "  <thead>\n",
       "    <tr style=\"text-align: right;\">\n",
       "      <th></th>\n",
       "      <th>Date</th>\n",
       "      <th>BTC price [USD]</th>\n",
       "      <th>n-transactions</th>\n",
       "      <th>fee [USD]</th>\n",
       "      <th>btc search trends</th>\n",
       "      <th>Gold price[USD]</th>\n",
       "      <th>SP500 close index</th>\n",
       "      <th>Oil WTI price[USD]</th>\n",
       "      <th>M2(Not seasonally adjusted)[1e+09 USD]</th>\n",
       "      <th>DateYear</th>\n",
       "    </tr>\n",
       "  </thead>\n",
       "  <tbody>\n",
       "    <tr>\n",
       "      <th>0</th>\n",
       "      <td>2014-01-02</td>\n",
       "      <td>749.27</td>\n",
       "      <td>54770.0</td>\n",
       "      <td>0.18</td>\n",
       "      <td>8</td>\n",
       "      <td>1225.0</td>\n",
       "      <td>1831.98</td>\n",
       "      <td>95.14</td>\n",
       "      <td>11089.3</td>\n",
       "      <td>2014</td>\n",
       "    </tr>\n",
       "    <tr>\n",
       "      <th>1</th>\n",
       "      <td>2014-01-03</td>\n",
       "      <td>781.23</td>\n",
       "      <td>60980.0</td>\n",
       "      <td>NaN</td>\n",
       "      <td>8</td>\n",
       "      <td>1238.4</td>\n",
       "      <td>1831.37</td>\n",
       "      <td>93.66</td>\n",
       "      <td>11089.3</td>\n",
       "      <td>2014</td>\n",
       "    </tr>\n",
       "    <tr>\n",
       "      <th>2</th>\n",
       "      <td>2014-01-04</td>\n",
       "      <td>807.39</td>\n",
       "      <td>52052.0</td>\n",
       "      <td>NaN</td>\n",
       "      <td>8</td>\n",
       "      <td>NaN</td>\n",
       "      <td>NaN</td>\n",
       "      <td>NaN</td>\n",
       "      <td>11089.3</td>\n",
       "      <td>2014</td>\n",
       "    </tr>\n",
       "    <tr>\n",
       "      <th>3</th>\n",
       "      <td>2014-01-05</td>\n",
       "      <td>828.74</td>\n",
       "      <td>58662.0</td>\n",
       "      <td>0.38</td>\n",
       "      <td>8</td>\n",
       "      <td>NaN</td>\n",
       "      <td>NaN</td>\n",
       "      <td>NaN</td>\n",
       "      <td>11089.3</td>\n",
       "      <td>2014</td>\n",
       "    </tr>\n",
       "    <tr>\n",
       "      <th>4</th>\n",
       "      <td>2014-01-06</td>\n",
       "      <td>904.98</td>\n",
       "      <td>67358.0</td>\n",
       "      <td>NaN</td>\n",
       "      <td>8</td>\n",
       "      <td>1237.8</td>\n",
       "      <td>1826.77</td>\n",
       "      <td>93.12</td>\n",
       "      <td>11089.3</td>\n",
       "      <td>2014</td>\n",
       "    </tr>\n",
       "  </tbody>\n",
       "</table>\n",
       "</div>"
      ],
      "text/plain": [
       "        Date  BTC price [USD]  n-transactions  fee [USD]  btc search trends  \\\n",
       "0 2014-01-02           749.27         54770.0       0.18                  8   \n",
       "1 2014-01-03           781.23         60980.0        NaN                  8   \n",
       "2 2014-01-04           807.39         52052.0        NaN                  8   \n",
       "3 2014-01-05           828.74         58662.0       0.38                  8   \n",
       "4 2014-01-06           904.98         67358.0        NaN                  8   \n",
       "\n",
       "   Gold price[USD]  SP500 close index  Oil WTI price[USD]  \\\n",
       "0           1225.0            1831.98               95.14   \n",
       "1           1238.4            1831.37               93.66   \n",
       "2              NaN                NaN                 NaN   \n",
       "3              NaN                NaN                 NaN   \n",
       "4           1237.8            1826.77               93.12   \n",
       "\n",
       "   M2(Not seasonally adjusted)[1e+09 USD]  DateYear  \n",
       "0                                 11089.3      2014  \n",
       "1                                 11089.3      2014  \n",
       "2                                 11089.3      2014  \n",
       "3                                 11089.3      2014  \n",
       "4                                 11089.3      2014  "
      ]
     },
     "execution_count": 43,
     "metadata": {},
     "output_type": "execute_result"
    }
   ],
   "source": [
    "df.head()"
   ]
  },
  {
   "cell_type": "code",
   "execution_count": 45,
   "id": "015a7bf6",
   "metadata": {},
   "outputs": [
    {
     "data": {
      "text/plain": [
       "pandas.core.series.Series"
      ]
     },
     "execution_count": 45,
     "metadata": {},
     "output_type": "execute_result"
    }
   ],
   "source": [
    "type(df[\"BTC price [USD]\"])"
   ]
  },
  {
   "cell_type": "code",
   "execution_count": 20,
   "id": "7d4ea334",
   "metadata": {},
   "outputs": [
    {
     "ename": "NameError",
     "evalue": "name 'btcWeek' is not defined",
     "output_type": "error",
     "traceback": [
      "\u001b[1;31m---------------------------------------------------------------------------\u001b[0m",
      "\u001b[1;31mNameError\u001b[0m                                 Traceback (most recent call last)",
      "\u001b[1;32m<ipython-input-20-f85668fbdcad>\u001b[0m in \u001b[0;36m<module>\u001b[1;34m\u001b[0m\n\u001b[0;32m      1\u001b[0m \u001b[0mbtcPriceUSD\u001b[0m \u001b[1;33m=\u001b[0m \u001b[0mdf\u001b[0m\u001b[1;33m[\u001b[0m\u001b[1;34m\"BTC price [USD]\"\u001b[0m\u001b[1;33m]\u001b[0m\u001b[1;33m\u001b[0m\u001b[1;33m\u001b[0m\u001b[0m\n\u001b[1;32m----> 2\u001b[1;33m \u001b[0mbtcWeek1\u001b[0m \u001b[1;33m=\u001b[0m \u001b[0mbtcWeek\u001b[0m\u001b[1;33m.\u001b[0m\u001b[0mdrop\u001b[0m\u001b[1;33m(\u001b[0m\u001b[0mrange\u001b[0m\u001b[1;33m(\u001b[0m\u001b[1;36m7\u001b[0m\u001b[1;33m)\u001b[0m\u001b[1;33m)\u001b[0m\u001b[1;33m.\u001b[0m\u001b[0mreset_index\u001b[0m\u001b[1;33m(\u001b[0m\u001b[0mdrop\u001b[0m\u001b[1;33m=\u001b[0m\u001b[1;32mTrue\u001b[0m\u001b[1;33m)\u001b[0m\u001b[1;33m.\u001b[0m\u001b[0msort_index\u001b[0m\u001b[1;33m(\u001b[0m\u001b[1;33m)\u001b[0m\u001b[1;33m\u001b[0m\u001b[1;33m\u001b[0m\u001b[0m\n\u001b[0m\u001b[0;32m      3\u001b[0m \u001b[0mbtcLastWeek\u001b[0m \u001b[1;33m=\u001b[0m \u001b[0mbtcWeek\u001b[0m\u001b[1;33m.\u001b[0m\u001b[0mdrop\u001b[0m\u001b[1;33m(\u001b[0m\u001b[0mrange\u001b[0m\u001b[1;33m(\u001b[0m\u001b[1;36m2303\u001b[0m\u001b[1;33m,\u001b[0m \u001b[1;36m2310\u001b[0m\u001b[1;33m)\u001b[0m\u001b[1;33m)\u001b[0m\u001b[1;33m.\u001b[0m\u001b[0mreset_index\u001b[0m\u001b[1;33m(\u001b[0m\u001b[0mdrop\u001b[0m\u001b[1;33m=\u001b[0m\u001b[1;32mTrue\u001b[0m\u001b[1;33m)\u001b[0m\u001b[1;33m.\u001b[0m\u001b[0msort_index\u001b[0m\u001b[1;33m(\u001b[0m\u001b[1;33m)\u001b[0m\u001b[1;33m\u001b[0m\u001b[1;33m\u001b[0m\u001b[0m\n\u001b[0;32m      4\u001b[0m \u001b[1;33m\u001b[0m\u001b[0m\n\u001b[0;32m      5\u001b[0m \u001b[1;31m#btcWeek1 > btcLastWeek\u001b[0m\u001b[1;33m\u001b[0m\u001b[1;33m\u001b[0m\u001b[1;33m\u001b[0m\u001b[0m\n",
      "\u001b[1;31mNameError\u001b[0m: name 'btcWeek' is not defined"
     ]
    }
   ],
   "source": [
    "btcPriceUSD = df[\"BTC price [USD]\"]\n",
    "btcWeek1 = btcWeek.drop(range(7)).reset_index(drop=True).sort_index()\n",
    "btcLastWeek = btcWeek.drop(range(2303, 2310)).reset_index(drop=True).sort_index()\n",
    "\n",
    "#btcWeek1 > btcLastWeek\n",
    "\n",
    "btcWeek1.corr(btcLastWeek)\n"
   ]
  },
  {
   "cell_type": "code",
   "execution_count": 21,
   "id": "17dab978",
   "metadata": {},
   "outputs": [
    {
     "data": {
      "text/plain": [
       "0       0.27\n",
       "1       4.23\n",
       "2       2.39\n",
       "3       2.74\n",
       "4       1.98\n",
       "        ... \n",
       "2305    3.08\n",
       "2306    3.52\n",
       "2307    6.27\n",
       "2308    6.66\n",
       "2309    2.33\n",
       "Name: BTC price [USD], Length: 2310, dtype: float64"
      ]
     },
     "execution_count": 21,
     "metadata": {},
     "output_type": "execute_result"
    }
   ],
   "source": [
    "for element in btcPriceUSD:\n",
    "    "
   ]
  },
  {
   "cell_type": "code",
   "execution_count": 100,
   "id": "5a67d96f",
   "metadata": {},
   "outputs": [
    {
     "data": {
      "text/html": [
       "<div>\n",
       "<style scoped>\n",
       "    .dataframe tbody tr th:only-of-type {\n",
       "        vertical-align: middle;\n",
       "    }\n",
       "\n",
       "    .dataframe tbody tr th {\n",
       "        vertical-align: top;\n",
       "    }\n",
       "\n",
       "    .dataframe thead th {\n",
       "        text-align: right;\n",
       "    }\n",
       "</style>\n",
       "<table border=\"1\" class=\"dataframe\">\n",
       "  <thead>\n",
       "    <tr style=\"text-align: right;\">\n",
       "      <th></th>\n",
       "      <th>Date</th>\n",
       "      <th>BTC price [USD]</th>\n",
       "      <th>n-transactions</th>\n",
       "      <th>fee [USD]</th>\n",
       "      <th>btc search trends</th>\n",
       "      <th>Gold price[USD]</th>\n",
       "      <th>SP500 close index</th>\n",
       "      <th>Oil WTI price[USD]</th>\n",
       "      <th>M2(Not seasonally adjusted)[1e+09 USD]</th>\n",
       "      <th>DateYear</th>\n",
       "      <th>Week</th>\n",
       "    </tr>\n",
       "  </thead>\n",
       "  <tbody>\n",
       "    <tr>\n",
       "      <th>0</th>\n",
       "      <td>2014-01-02</td>\n",
       "      <td>749.27</td>\n",
       "      <td>54770.0</td>\n",
       "      <td>0.18</td>\n",
       "      <td>8</td>\n",
       "      <td>1225.0</td>\n",
       "      <td>1831.98</td>\n",
       "      <td>95.14</td>\n",
       "      <td>11089.3</td>\n",
       "      <td>2014</td>\n",
       "      <td>749.27</td>\n",
       "    </tr>\n",
       "    <tr>\n",
       "      <th>1</th>\n",
       "      <td>2014-01-03</td>\n",
       "      <td>781.23</td>\n",
       "      <td>60980.0</td>\n",
       "      <td>NaN</td>\n",
       "      <td>8</td>\n",
       "      <td>1238.4</td>\n",
       "      <td>1831.37</td>\n",
       "      <td>93.66</td>\n",
       "      <td>11089.3</td>\n",
       "      <td>2014</td>\n",
       "      <td>781.23</td>\n",
       "    </tr>\n",
       "    <tr>\n",
       "      <th>2</th>\n",
       "      <td>2014-01-04</td>\n",
       "      <td>807.39</td>\n",
       "      <td>52052.0</td>\n",
       "      <td>NaN</td>\n",
       "      <td>8</td>\n",
       "      <td>NaN</td>\n",
       "      <td>NaN</td>\n",
       "      <td>NaN</td>\n",
       "      <td>11089.3</td>\n",
       "      <td>2014</td>\n",
       "      <td>807.39</td>\n",
       "    </tr>\n",
       "    <tr>\n",
       "      <th>3</th>\n",
       "      <td>2014-01-05</td>\n",
       "      <td>828.74</td>\n",
       "      <td>58662.0</td>\n",
       "      <td>0.38</td>\n",
       "      <td>8</td>\n",
       "      <td>NaN</td>\n",
       "      <td>NaN</td>\n",
       "      <td>NaN</td>\n",
       "      <td>11089.3</td>\n",
       "      <td>2014</td>\n",
       "      <td>828.74</td>\n",
       "    </tr>\n",
       "    <tr>\n",
       "      <th>4</th>\n",
       "      <td>2014-01-06</td>\n",
       "      <td>904.98</td>\n",
       "      <td>67358.0</td>\n",
       "      <td>NaN</td>\n",
       "      <td>8</td>\n",
       "      <td>1237.8</td>\n",
       "      <td>1826.77</td>\n",
       "      <td>93.12</td>\n",
       "      <td>11089.3</td>\n",
       "      <td>2014</td>\n",
       "      <td>904.98</td>\n",
       "    </tr>\n",
       "  </tbody>\n",
       "</table>\n",
       "</div>"
      ],
      "text/plain": [
       "        Date  BTC price [USD]  n-transactions  fee [USD]  btc search trends  \\\n",
       "0 2014-01-02           749.27         54770.0       0.18                  8   \n",
       "1 2014-01-03           781.23         60980.0        NaN                  8   \n",
       "2 2014-01-04           807.39         52052.0        NaN                  8   \n",
       "3 2014-01-05           828.74         58662.0       0.38                  8   \n",
       "4 2014-01-06           904.98         67358.0        NaN                  8   \n",
       "\n",
       "   Gold price[USD]  SP500 close index  Oil WTI price[USD]  \\\n",
       "0           1225.0            1831.98               95.14   \n",
       "1           1238.4            1831.37               93.66   \n",
       "2              NaN                NaN                 NaN   \n",
       "3              NaN                NaN                 NaN   \n",
       "4           1237.8            1826.77               93.12   \n",
       "\n",
       "   M2(Not seasonally adjusted)[1e+09 USD]  DateYear    Week  \n",
       "0                                 11089.3      2014  749.27  \n",
       "1                                 11089.3      2014  781.23  \n",
       "2                                 11089.3      2014  807.39  \n",
       "3                                 11089.3      2014  828.74  \n",
       "4                                 11089.3      2014  904.98  "
      ]
     },
     "execution_count": 100,
     "metadata": {},
     "output_type": "execute_result"
    }
   ],
   "source": [
    "df.head()"
   ]
  },
  {
   "cell_type": "code",
   "execution_count": 88,
   "id": "7d21f1db",
   "metadata": {},
   "outputs": [
    {
     "data": {
      "text/plain": [
       "[0, 1, 2, 3, 4, 5, 6]"
      ]
     },
     "execution_count": 88,
     "metadata": {},
     "output_type": "execute_result"
    }
   ],
   "source": [
    "list(range(7))"
   ]
  },
  {
   "cell_type": "code",
   "execution_count": 87,
   "id": "68e50f21",
   "metadata": {},
   "outputs": [
    {
     "data": {
      "text/plain": [
       "[2303, 2304, 2305, 2306, 2307, 2308]"
      ]
     },
     "execution_count": 87,
     "metadata": {},
     "output_type": "execute_result"
    }
   ],
   "source": [
    "list(range(2303, 2309))"
   ]
  },
  {
   "cell_type": "code",
   "execution_count": 101,
   "id": "14403360",
   "metadata": {},
   "outputs": [
    {
     "data": {
      "text/plain": [
       "0.5605846695559041"
      ]
     },
     "execution_count": 101,
     "metadata": {},
     "output_type": "execute_result"
    }
   ],
   "source": [
    "df[\"BTC price [USD]\"].corr(df[\"Gold price[USD]\"])"
   ]
  },
  {
   "cell_type": "code",
   "execution_count": 113,
   "id": "dafd6871",
   "metadata": {},
   "outputs": [
    {
     "data": {
      "text/plain": [
       "2310"
      ]
     },
     "execution_count": 113,
     "metadata": {},
     "output_type": "execute_result"
    }
   ],
   "source": [
    "from scipy.stats import pearsonr\n",
    "\n",
    "clearBtcPrice = df.dropna(subset=[\"BTC price [USD]\"])\n",
    "clearGoldPrice = df.dropna(subset=[\"Gold price[USD]\"])\n",
    "\n",
    "\n",
    "len(clearBtcPrice)\n",
    "#len(clearGoldPrice)"
   ]
  },
  {
   "cell_type": "code",
   "execution_count": 114,
   "id": "a9023683",
   "metadata": {},
   "outputs": [
    {
     "data": {
      "text/plain": [
       "(0.983052994182128, 0.0)"
      ]
     },
     "execution_count": 114,
     "metadata": {},
     "output_type": "execute_result"
    }
   ],
   "source": [
    "pearsonr(btcWeek1, btcLastWeek)"
   ]
  },
  {
   "cell_type": "code",
   "execution_count": null,
   "id": "59b28407",
   "metadata": {},
   "outputs": [],
   "source": []
  }
 ],
 "metadata": {
  "kernelspec": {
   "display_name": "Python 3",
   "language": "python",
   "name": "python3"
  },
  "language_info": {
   "codemirror_mode": {
    "name": "ipython",
    "version": 3
   },
   "file_extension": ".py",
   "mimetype": "text/x-python",
   "name": "python",
   "nbconvert_exporter": "python",
   "pygments_lexer": "ipython3",
   "version": "3.8.8"
  }
 },
 "nbformat": 4,
 "nbformat_minor": 5
}
